{
 "cells": [
  {
   "cell_type": "code",
   "execution_count": 1,
   "id": "0a74acd2",
   "metadata": {},
   "outputs": [
    {
     "data": {
      "text/plain": [
       "-1"
      ]
     },
     "execution_count": 1,
     "metadata": {},
     "output_type": "execute_result"
    }
   ],
   "source": [
    "import cv2\n",
    "\n",
    "# for face detection\n",
    "face_cascade = cv2.CascadeClassifier('haarcascade_frontalface_default.xml')\n",
    "\n",
    "# resolution of the webcam\n",
    "screen_width = 1280       # try 640 if code fails\n",
    "screen_height = 720\n",
    "\n",
    "# default webcam\n",
    "stream = cv2.VideoCapture(0)\n",
    "\n",
    "while(True):\n",
    "    # capture frame-by-frame\n",
    "    (grabbed, frame) = stream.read()\n",
    "    rgb = cv2.cvtColor(frame, cv2.COLOR_BGR2RGB)\n",
    "\n",
    "    # try to detect faces in the webcam\n",
    "    faces = face_cascade.detectMultiScale(rgb, scaleFactor=1.3, minNeighbors=5)\n",
    "\n",
    "    # for each faces found\n",
    "    for (x, y, w, h) in faces:\n",
    "        # Draw a rectangle around the face\n",
    "        color = (0, 255, 255) # in BGR\n",
    "        stroke = 5\n",
    "        cv2.rectangle(frame, (x, y), (x + w, y + h), color, stroke)\n",
    "\n",
    "    # show the frame\n",
    "    cv2.imshow(\"Image\", frame)\n",
    "    key = cv2.waitKey(1) & 0xFF\n",
    "    if key == ord(\"q\"):    # Press q to break out\n",
    "        break                  # of the loop\n",
    "\n",
    "# cleanup\n",
    "stream.release()\n",
    "cv2.waitKey(1)\n",
    "cv2.destroyAllWindows()\n",
    "cv2.waitKey(1)\n"
   ]
  },
  {
   "cell_type": "markdown",
   "id": "3c5925e2",
   "metadata": {},
   "source": []
  },
  {
   "cell_type": "code",
   "execution_count": null,
   "id": "04b64ca1",
   "metadata": {},
   "outputs": [],
   "source": []
  }
 ],
 "metadata": {
  "kernelspec": {
   "display_name": "Python 3 (ipykernel)",
   "language": "python",
   "name": "python3"
  },
  "language_info": {
   "codemirror_mode": {
    "name": "ipython",
    "version": 3
   },
   "file_extension": ".py",
   "mimetype": "text/x-python",
   "name": "python",
   "nbconvert_exporter": "python",
   "pygments_lexer": "ipython3",
   "version": "3.11.4"
  }
 },
 "nbformat": 4,
 "nbformat_minor": 5
}
